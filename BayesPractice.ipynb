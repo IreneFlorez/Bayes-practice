{
 "cells": [
  {
   "cell_type": "markdown",
   "metadata": {},
   "source": [
    "# Candy Conundrum "
   ]
  },
  {
   "cell_type": "markdown",
   "metadata": {},
   "source": [
    "Candy Conundrum\n",
    "I have two bowls of candy. One is supposed to be filled with candy-covered chocolates, the other filled with fruit-flavored candies with candy shells. Unfortunately, someone has nefariously mixed up the contents of the two bowls, mixing a portion of one bowl into the second, and vice versa. Even worse, the candies are visually indistinguishable, and can only be sorted out by taste.\n",
    "\n",
    "I know that one of the bowls (A) has candies in the following proportions: \n",
    "A ~ {2/3 chocolate, 1/3 fruity}, \n",
    "B ~ {1/4 chocolate, 3/4 fruity}. \n",
    "Assume for the questions below that both bowls are large enough that small samples will not have a practical effect on the distribution of candies.\n",
    "\n",
    "Input your answers as fractions or as decimals with at least four digits of precision."
   ]
  },
  {
   "cell_type": "markdown",
   "metadata": {},
   "source": [
    "I select a bowl at random and choose a random candy. It's a chocolate candy! What is the probability that I've picked up bowl A (the one weighted towards chocolates)?"
   ]
  },
  {
   "cell_type": "code",
   "execution_count": 34,
   "metadata": {
    "collapsed": false
   },
   "outputs": [],
   "source": [
    "AChoc = 2/3\n",
    "AFruit = 1/3\n",
    "BChoc = 1/4\n",
    "BFruit = 3/4"
   ]
  },
  {
   "cell_type": "markdown",
   "metadata": {},
   "source": [
    "P(c)      = ~.25 // assumed the unconditional probabilities to be 1/2 for each bowl\n",
    "\n",
    "P(A)      = .5 \n",
    "\n",
    "P(C|A)    = .6667 // decimal equivalent of 2/3 \n",
    "\n",
    "P(c)      = (.5 * BChoc) + (.5 * AChoc)"
   ]
  },
  {
   "cell_type": "code",
   "execution_count": 32,
   "metadata": {
    "collapsed": false
   },
   "outputs": [
    {
     "name": "stdout",
     "output_type": "stream",
     "text": [
      "0.4583333333333333\n"
     ]
    }
   ],
   "source": [
    "Pc = (.5 * BChoc) + (.5 * AChoc)\n",
    "print(Pc)"
   ]
  },
  {
   "cell_type": "markdown",
   "metadata": {},
   "source": [
    "P(A|c)    = P(C|A) * P(A) / P(c)\n",
    "\n",
    "P(A|c)    = .6667  *.5 / .4583333333333333\n",
    "\n",
    "P(A|c)    = 0.33335   / .4583333333333333\n",
    "\n",
    "P(A|c)    = 0.33335  / .4583333333333333\n",
    "    \n",
    "P(A|c)    = 8/11 // .7272"
   ]
  },
  {
   "cell_type": "markdown",
   "metadata": {
    "collapsed": false
   },
   "source": [
    "A ~ {2/3 chocolate, 1/3 fruity}, = 2/3\n",
    "\n",
    "B ~ {1/4 chocolate, 3/4 fruity}  =/4"
   ]
  },
  {
   "cell_type": "markdown",
   "metadata": {},
   "source": [
    "Continuing with the same bowl as before, I select two more candies. They are both fruity candies. What is the probability that I've picked up bowl A (the one weighted towards chocolates) now? (To clarify, there are three candies drawn in all: one chocolate and two fruity.)"
   ]
  },
  {
   "cell_type": "markdown",
   "metadata": {},
   "source": [
    "P(A|cff) = P(cff|A) * P(A) / P(cff)"
   ]
  },
  {
   "cell_type": "code",
   "execution_count": 18,
   "metadata": {
    "collapsed": false
   },
   "outputs": [
    {
     "name": "stdout",
     "output_type": "stream",
     "text": [
      "0.07407407407407407\n",
      "0.140625\n"
     ]
    }
   ],
   "source": [
    "Acff = AChoc * AFruit * AFruit\n",
    "Bcff = BChoc * BFruit * BFruit\n",
    "print(Acff)\n",
    "print(Bcff)"
   ]
  },
  {
   "cell_type": "markdown",
   "metadata": {},
   "source": [
    "P(A|cff) = (ACFF * .5) / Pcff\n",
    "\n",
    "P(cff|A) = P(c|A) * p(f|A) * p(f|A) "
   ]
  },
  {
   "cell_type": "code",
   "execution_count": 20,
   "metadata": {
    "collapsed": false
   },
   "outputs": [
    {
     "name": "stdout",
     "output_type": "stream",
     "text": [
      "0.10734953703703703\n"
     ]
    }
   ],
   "source": [
    "Pcff = (ACFF *.5) + (BCFF *.5)\n",
    "print(Pcff)"
   ]
  },
  {
   "cell_type": "markdown",
   "metadata": {
    "collapsed": true
   },
   "source": [
    "The denominator `P(cff)` is the probability of pulling cff from a single bowl (either A or B). \n",
    "So it is the probability of pulling cff from A times the probability of choosing A  \n",
    "*plus* the probability of pulling cff from B times the probability of choosing B."
   ]
  },
  {
   "cell_type": "code",
   "execution_count": 21,
   "metadata": {
    "collapsed": false
   },
   "outputs": [
    {
     "name": "stdout",
     "output_type": "stream",
     "text": [
      "0.34501347708894875\n"
     ]
    }
   ],
   "source": [
    "PAcff = (ACFF * .5) / Pcff\n",
    "print(PAcff)"
   ]
  }
 ],
 "metadata": {
  "kernelspec": {
   "display_name": "Python 3",
   "language": "python",
   "name": "python3"
  },
  "language_info": {
   "codemirror_mode": {
    "name": "ipython",
    "version": 3
   },
   "file_extension": ".py",
   "mimetype": "text/x-python",
   "name": "python",
   "nbconvert_exporter": "python",
   "pygments_lexer": "ipython3",
   "version": "3.6.0"
  }
 },
 "nbformat": 4,
 "nbformat_minor": 2
}
